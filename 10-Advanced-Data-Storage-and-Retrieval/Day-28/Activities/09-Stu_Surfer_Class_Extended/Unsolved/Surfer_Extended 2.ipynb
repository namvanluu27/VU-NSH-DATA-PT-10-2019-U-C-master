{
 "cells": [
  {
   "cell_type": "code",
   "execution_count": 5,
   "metadata": {},
   "outputs": [],
   "source": [
    "# Define the Surfer Class\n",
    "# Define the Surfer Class\n",
    "class Surfer():\n",
    "    \n",
    "  # Initialize the Surfer constructor \n",
    "    def __init__(self, name, hometown, rank, wipeouts):\n",
    "        self.name = name \n",
    "        self.hometown = hometown \n",
    "        self.rank = rank\n",
    "        self.wipeouts = wipeouts\n",
    "        \n",
    "    def speak(self):\n",
    "        print(\"Hang loose, bro!\")\n",
    "        \n",
    "    def biography(self):\n",
    "        print(self.name, \"is from\", self.hometown)\n",
    "    \n",
    "    def cheer(self):\n",
    "        if self.wipeouts == 0:\n",
    "            print(\"Nice dude! No wipeouts\")\n",
    "        else:\n",
    "            print(\"Gnarly amount of wipeouts\")"
   ]
  },
  {
   "cell_type": "code",
   "execution_count": 6,
   "metadata": {},
   "outputs": [],
   "source": [
    "# Create Surfers\n",
    "# --------------------------------------------------------------------------------\n",
    "surfer1 = Surfer(\"Ethan\", \"Btown\", 1, 3)"
   ]
  },
  {
   "cell_type": "code",
   "execution_count": 7,
   "metadata": {},
   "outputs": [
    {
     "name": "stdout",
     "output_type": "stream",
     "text": [
      "Hang loose, bro!\n",
      "Ethan is from Btown\n"
     ]
    }
   ],
   "source": [
    "surfer1.speak()\n",
    "surfer1.biography()"
   ]
  },
  {
   "cell_type": "code",
   "execution_count": null,
   "metadata": {},
   "outputs": [],
   "source": []
  }
 ],
 "metadata": {
  "kernelspec": {
   "display_name": "Python 3",
   "language": "python",
   "name": "python3"
  },
  "language_info": {
   "codemirror_mode": {
    "name": "ipython",
    "version": 3
   },
   "file_extension": ".py",
   "mimetype": "text/x-python",
   "name": "python",
   "nbconvert_exporter": "python",
   "pygments_lexer": "ipython3",
   "version": "3.7.3"
  },
  "varInspector": {
   "cols": {
    "lenName": 16,
    "lenType": 16,
    "lenVar": 40
   },
   "kernels_config": {
    "python": {
     "delete_cmd_postfix": "",
     "delete_cmd_prefix": "del ",
     "library": "var_list.py",
     "varRefreshCmd": "print(var_dic_list())"
    },
    "r": {
     "delete_cmd_postfix": ") ",
     "delete_cmd_prefix": "rm(",
     "library": "var_list.r",
     "varRefreshCmd": "cat(var_dic_list()) "
    }
   },
   "types_to_exclude": [
    "module",
    "function",
    "builtin_function_or_method",
    "instance",
    "_Feature"
   ],
   "window_display": false
  }
 },
 "nbformat": 4,
 "nbformat_minor": 2
}
