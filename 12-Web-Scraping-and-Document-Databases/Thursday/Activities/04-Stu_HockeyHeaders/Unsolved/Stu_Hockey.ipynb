{
 "cells": [
  {
   "cell_type": "code",
   "execution_count": 1,
   "metadata": {},
   "outputs": [],
   "source": [
    "# Dependencies\n",
    "from bs4 import BeautifulSoup\n",
    "import requests\n",
    "import pymongo"
   ]
  },
  {
   "cell_type": "code",
   "execution_count": 2,
   "metadata": {},
   "outputs": [],
   "source": [
    "# Initialize PyMongo to work with MongoDBs\n",
    "conn = 'mongodb://localhost:27017'\n",
    "client = pymongo.MongoClient(conn)"
   ]
  },
  {
   "cell_type": "code",
   "execution_count": 3,
   "metadata": {},
   "outputs": [],
   "source": [
    "# Define database and collection\n",
    "db = client.nhl_db\n",
    "collection = db.articles"
   ]
  },
  {
   "cell_type": "code",
   "execution_count": 4,
   "metadata": {},
   "outputs": [],
   "source": [
    "# URL of page to be scraped\n",
    "url = 'https://www.nhl.com/news'"
   ]
  },
  {
   "cell_type": "code",
   "execution_count": 6,
   "metadata": {},
   "outputs": [
    {
     "data": {
      "text/plain": [
       "<Response [200]>"
      ]
     },
     "execution_count": 6,
     "metadata": {},
     "output_type": "execute_result"
    }
   ],
   "source": [
    "# Retrieve page with the requests module\n",
    "response = requests.get(url)\n",
    "\n",
    "response"
   ]
  },
  {
   "cell_type": "code",
   "execution_count": 7,
   "metadata": {},
   "outputs": [],
   "source": [
    "# Create BeautifulSoup object; parse with 'lxml'\n",
    "soup = BeautifulSoup(response.text, 'lxml')"
   ]
  },
  {
   "cell_type": "code",
   "execution_count": 13,
   "metadata": {},
   "outputs": [
    {
     "name": "stdout",
     "output_type": "stream",
     "text": [
      "-----------------\n",
      "Vasilevskiy sets Lightning point record in win against Penguins\n",
      "Makes 29 saves for longest streak by goalie with 17; Kucherov has goal, assist for Tampa Bay\n",
      "2020-02-06T22:00:40-0500\n",
      "-----------------\n",
      "Petry scores in overtime, Canadiens defeat Ducks\n",
      "Defenseman's goal at 25 seconds produces sixth win in eight games\n",
      "2020-02-06T21:46:46-0500\n",
      "-----------------\n",
      "Bellows scores first two NHL goals to lift Islanders past Kings\n",
      "Second one breaks tie with 7:50 left in third; New York extends point streak to five\n",
      "2020-02-06T21:46:12-0500\n",
      "-----------------\n",
      "Super 16: Lightning move past Penguins, Blues to take third in rankings\n",
      "Blue Jackets climb four spots; Panthers fall five\n",
      "2020-02-06T00:00:00-0500\n",
      "-----------------\n",
      "Fantasy goalie top 25 rankings for 2019-20\n",
      "Bobrovsky among 10 best for Panthers; Merzlikins continues to trend up\n",
      "2020-02-06T09:00:00-0500\n",
      "-----------------\n",
      "Blackwood makes 46 saves, Devils shut out Flyers\n",
      "Gets first NHL assist; Wood scores twice for New Jersey\n",
      "2020-02-06T21:44:15-0500\n",
      "-----------------\n",
      "Red Wings top Sabres in shootout, get first win in 10 games\n",
      "Larkin scores two goals for Detroit, which was 0-8-1 in previous nine\n",
      "2020-02-06T22:00:37-0500\n",
      "-----------------\n",
      "Stone's five points help Golden Knights defeat Panthers\n",
      "Has two goals, three assists, Fleury moves into fifth on NHL wins list for Vegas\n",
      "2020-02-06T21:56:49-0500\n",
      "-----------------\n",
      "NHL Trade Buzz: Dillon has heard rumors, wants to stay with Sharks\n",
      "Maple Leafs waiting on Rielly; Flames get good news on Giordano\n",
      "2020-02-06T17:56:44-0500\n",
      "-----------------\n",
      "NHL DFS picks, projections, strategy\n",
      "Buchnevich, Zibanejad form stacking option; more Friday DFS targets\n",
      "2020-02-06T19:00:00-0500\n",
      "-----------------\n",
      "Weber placed on injured reserve by Canadiens, out at least one week\n",
      "Defenseman sustained lower-body injury in win against Devils\n",
      "2020-02-06T21:59:29-0500\n",
      "-----------------\n",
      "Rielly's status could determine deadline plan for Maple Leafs\n",
      "Toronto may add at position if defenseman out long term\n",
      "2020-02-06T16:45:42-0500\n",
      "-----------------\n",
      "NHL, NHLPA to resume negotiations on collective bargaining agreement\n",
      "After deciding against reopening, will discuss extension past 2021-22 season\n",
      "2020-02-06T20:16:33-0500\n",
      "-----------------\n",
      "Seabrook has hip surgery, will be ready for Blackhawks training camp\n",
      "Defenseman projected to need 5-6 months to recover\n",
      "2020-02-06T17:03:15-0500\n",
      "-----------------\n",
      "Fantasy defenseman top 50 rankings for 2019-20\n",
      "Ellis nearing return for Predators; Zadorov gives Avalanche four players on list\n",
      "2020-02-04T17:00:00-0500\n",
      "-----------------\n",
      "Campbell, Clifford traded to Maple Leafs by Kings\n",
      "Toronto acquires goalie, forward for Moore, two draft picks\n",
      "2020-02-06T15:13:08-0500\n",
      "-----------------\n",
      "NHL Trade Deadline targets debated by writers\n",
      "Dillon of Sharks, Lehner of Blackhawks among most intriguing options, according to NHL.com\n",
      "2020-02-06T00:00:00-0500\n",
      "-----------------\n",
      "Giordano week to week for Flames with hamstring injury\n",
      "Defenseman won't need surgery; GM says 'we dodged a big bullet'\n",
      "2020-02-06T12:29:42-0500\n",
      "-----------------\n",
      "Tarasenko skates with Blues for first time since shoulder surgery\n",
      "Forward has missed 44 games since injury on Oct. 24\n",
      "2020-02-06T15:00:00-0500\n",
      "-----------------\n",
      "Hertl will be ready for Sharks training camp after left knee surgery\n",
      "Forward tore ACL, MCL against Canucks on Jan. 29\n",
      "2020-02-06T15:35:25-0500\n",
      "-----------------\n",
      "2019-20 NHL Trade Tracker\n",
      "Official deals since June 14\n",
      "2020-02-05T23:01:11-0500\n",
      "-----------------\n",
      "Fleury, Lundqvist set standard for young goalies in 2010s\n",
      "Marcoux says All-Decade players were prime examples of leadership, work ethic\n",
      "2020-02-06T00:00:00-0500\n",
      "-----------------\n",
      "Walker, Roy talk Kings, Stadium Series on new NHL @TheRink podcast\n",
      "NHL.com deputy managing editor Compton also joins Rosen, Roarke for latest episode\n",
      "2020-02-06T16:18:21-0500\n",
      "-----------------\n",
      "Knight lives up to legacy for United States in Rivalry Series\n",
      "Decorated forward helps clinch victory in competition against Canada\n",
      "2020-02-06T10:23:24-0500\n",
      "-----------------\n",
      "Capitals, Lightning may seek defenseman prior to NHL Trade Deadline\n",
      "Bruins, Avalanche could benefit from adding depth scoring, underlying numbers show\n",
      "2020-02-06T09:01:48-0500\n",
      "-----------------\n",
      "Sabres owners 'frustrated with results,' GM says\n",
      "Buffalo sixth in Atlantic Division, hasn't qualified for playoffs since 2011\n",
      "2020-02-05T14:04:03-0500\n",
      "-----------------\n",
      "Mailbag: Islanders, Maple Leafs setting focus ahead of Trade Deadline\n",
      "NHL.com's Dan Rosen answers weekly questions\n",
      "2020-02-05T00:00:00-0500\n",
      "-----------------\n",
      "Patrick skates with Flyers, no timetable for return\n",
      "Forward hasn't played this season because of migraines; defenseman Gostisbehere progressing\n",
      "2020-02-05T15:47:20-0500\n",
      "-----------------\n",
      "Feb. 6: Brett Hull joins father as 50-goal scorer\n",
      "Plus: Bobby Hull earns 26th hat trick; Gilmour gets 900th NHL assist\n",
      "2020-02-06T00:00:00-0500\n"
     ]
    }
   ],
   "source": [
    "# Retrieve the parent divs for all articles\n",
    "results = soup.find_all(\"div\", class_=\"article-item__top\")\n",
    "# loop over results to get article data\n",
    "for result in results:\n",
    "    # scrape the article header \n",
    "    header = result.find('h1', class_='article-item__headline').text\n",
    "    \n",
    "    # scrape the article subheader\n",
    "    subheader = result.find('h2', class_='article-item__subheader').text\n",
    "    \n",
    "    # scrape the datetime\n",
    "    date = result.find(\"span\", class_='article-item__date')['data-date']\n",
    "    # get only the date from the datetime\n",
    "    clean_date = date.split('T')[0]\n",
    "    # print article data\n",
    "    print('-----------------')\n",
    "    print(header)\n",
    "    print(subheader)\n",
    "    print(date)\n",
    "\n",
    "    # Dictionary to be inserted into MongoDB\n",
    "    post = {\n",
    "        'header': header,\n",
    "        'subheader': subheader,\n",
    "        'date': date\n",
    "    }\n",
    "\n",
    "    # Insert dictionary into MongoDB as a document\n",
    "    collection.insert_one(post)"
   ]
  },
  {
   "cell_type": "code",
   "execution_count": 14,
   "metadata": {},
   "outputs": [
    {
     "name": "stdout",
     "output_type": "stream",
     "text": [
      "{'_id': ObjectId('5e3cd8a8edf633f6e323483f'), 'header': 'Vasilevskiy sets Lightning point record in win against Penguins', 'subheader': 'Makes 29 saves for longest streak by goalie with 17; Kucherov has goal, assist for Tampa Bay', 'date': '2020-02-06T22:00:40-0500'}\n",
      "{'_id': ObjectId('5e3cd8a8edf633f6e3234840'), 'header': 'Petry scores in overtime, Canadiens defeat Ducks', 'subheader': \"Defenseman's goal at 25 seconds produces sixth win in eight games\", 'date': '2020-02-06T21:46:46-0500'}\n",
      "{'_id': ObjectId('5e3cd8a8edf633f6e3234841'), 'header': 'Bellows scores first two NHL goals to lift Islanders past Kings', 'subheader': 'Second one breaks tie with 7:50 left in third; New York extends point streak to five', 'date': '2020-02-06T21:46:12-0500'}\n",
      "{'_id': ObjectId('5e3cd8a8edf633f6e3234842'), 'header': 'Super 16: Lightning move past Penguins, Blues to take third in rankings', 'subheader': 'Blue Jackets climb four spots; Panthers fall five', 'date': '2020-02-06T00:00:00-0500'}\n",
      "{'_id': ObjectId('5e3cd8a8edf633f6e3234843'), 'header': 'Fantasy goalie top 25 rankings for 2019-20', 'subheader': 'Bobrovsky among 10 best for Panthers; Merzlikins continues to trend up', 'date': '2020-02-06T09:00:00-0500'}\n",
      "{'_id': ObjectId('5e3cd8a8edf633f6e3234844'), 'header': 'Blackwood makes 46 saves, Devils shut out Flyers', 'subheader': 'Gets first NHL assist; Wood scores twice for New Jersey', 'date': '2020-02-06T21:44:15-0500'}\n",
      "{'_id': ObjectId('5e3cd8a8edf633f6e3234845'), 'header': 'Red Wings top Sabres in shootout, get first win in 10 games', 'subheader': 'Larkin scores two goals for Detroit, which was 0-8-1 in previous nine', 'date': '2020-02-06T22:00:37-0500'}\n",
      "{'_id': ObjectId('5e3cd8a8edf633f6e3234846'), 'header': \"Stone's five points help Golden Knights defeat Panthers\", 'subheader': 'Has two goals, three assists, Fleury moves into fifth on NHL wins list for Vegas', 'date': '2020-02-06T21:56:49-0500'}\n",
      "{'_id': ObjectId('5e3cd8a8edf633f6e3234847'), 'header': 'NHL Trade Buzz: Dillon has heard rumors, wants to stay with Sharks', 'subheader': 'Maple Leafs waiting on Rielly; Flames get good news on Giordano', 'date': '2020-02-06T17:56:44-0500'}\n",
      "{'_id': ObjectId('5e3cd8a8edf633f6e3234848'), 'header': 'NHL DFS picks, projections, strategy', 'subheader': 'Buchnevich, Zibanejad form stacking option; more Friday DFS targets', 'date': '2020-02-06T19:00:00-0500'}\n",
      "{'_id': ObjectId('5e3cd8a8edf633f6e3234849'), 'header': 'Weber placed on injured reserve by Canadiens, out at least one week', 'subheader': 'Defenseman sustained lower-body injury in win against Devils', 'date': '2020-02-06T21:59:29-0500'}\n",
      "{'_id': ObjectId('5e3cd8a8edf633f6e323484a'), 'header': \"Rielly's status could determine deadline plan for Maple Leafs\", 'subheader': 'Toronto may add at position if defenseman out long term', 'date': '2020-02-06T16:45:42-0500'}\n",
      "{'_id': ObjectId('5e3cd8a8edf633f6e323484b'), 'header': 'NHL, NHLPA to resume negotiations on collective bargaining agreement', 'subheader': 'After deciding against reopening, will discuss extension past 2021-22 season', 'date': '2020-02-06T20:16:33-0500'}\n",
      "{'_id': ObjectId('5e3cd8a8edf633f6e323484c'), 'header': 'Seabrook has hip surgery, will be ready for Blackhawks training camp', 'subheader': 'Defenseman projected to need 5-6 months to recover', 'date': '2020-02-06T17:03:15-0500'}\n",
      "{'_id': ObjectId('5e3cd8a8edf633f6e323484d'), 'header': 'Fantasy defenseman top 50 rankings for 2019-20', 'subheader': 'Ellis nearing return for Predators; Zadorov gives Avalanche four players on list', 'date': '2020-02-04T17:00:00-0500'}\n",
      "{'_id': ObjectId('5e3cd8a8edf633f6e323484e'), 'header': 'Campbell, Clifford traded to Maple Leafs by Kings', 'subheader': 'Toronto acquires goalie, forward for Moore, two draft picks', 'date': '2020-02-06T15:13:08-0500'}\n",
      "{'_id': ObjectId('5e3cd8a8edf633f6e323484f'), 'header': 'NHL Trade Deadline targets debated by writers', 'subheader': 'Dillon of Sharks, Lehner of Blackhawks among most intriguing options, according to NHL.com', 'date': '2020-02-06T00:00:00-0500'}\n",
      "{'_id': ObjectId('5e3cd8a8edf633f6e3234850'), 'header': 'Giordano week to week for Flames with hamstring injury', 'subheader': \"Defenseman won't need surgery; GM says 'we dodged a big bullet'\", 'date': '2020-02-06T12:29:42-0500'}\n",
      "{'_id': ObjectId('5e3cd8a8edf633f6e3234851'), 'header': 'Tarasenko skates with Blues for first time since shoulder surgery', 'subheader': 'Forward has missed 44 games since injury on Oct. 24', 'date': '2020-02-06T15:00:00-0500'}\n",
      "{'_id': ObjectId('5e3cd8a8edf633f6e3234852'), 'header': 'Hertl will be ready for Sharks training camp after left knee surgery', 'subheader': 'Forward tore ACL, MCL against Canucks on Jan. 29', 'date': '2020-02-06T15:35:25-0500'}\n",
      "{'_id': ObjectId('5e3cd8a8edf633f6e3234853'), 'header': '2019-20 NHL Trade Tracker', 'subheader': 'Official deals since June 14', 'date': '2020-02-05T23:01:11-0500'}\n",
      "{'_id': ObjectId('5e3cd8a8edf633f6e3234854'), 'header': 'Fleury, Lundqvist set standard for young goalies in 2010s', 'subheader': 'Marcoux says All-Decade players were prime examples of leadership, work ethic', 'date': '2020-02-06T00:00:00-0500'}\n",
      "{'_id': ObjectId('5e3cd8a8edf633f6e3234855'), 'header': 'Walker, Roy talk Kings, Stadium Series on new NHL @TheRink podcast', 'subheader': 'NHL.com deputy managing editor Compton also joins Rosen, Roarke for latest episode', 'date': '2020-02-06T16:18:21-0500'}\n",
      "{'_id': ObjectId('5e3cd8a8edf633f6e3234856'), 'header': 'Knight lives up to legacy for United States in Rivalry Series', 'subheader': 'Decorated forward helps clinch victory in competition against Canada', 'date': '2020-02-06T10:23:24-0500'}\n",
      "{'_id': ObjectId('5e3cd8a8edf633f6e3234857'), 'header': 'Capitals, Lightning may seek defenseman prior to NHL Trade Deadline', 'subheader': 'Bruins, Avalanche could benefit from adding depth scoring, underlying numbers show', 'date': '2020-02-06T09:01:48-0500'}\n",
      "{'_id': ObjectId('5e3cd8a8edf633f6e3234858'), 'header': \"Sabres owners 'frustrated with results,' GM says\", 'subheader': \"Buffalo sixth in Atlantic Division, hasn't qualified for playoffs since 2011\", 'date': '2020-02-05T14:04:03-0500'}\n",
      "{'_id': ObjectId('5e3cd8a8edf633f6e3234859'), 'header': 'Mailbag: Islanders, Maple Leafs setting focus ahead of Trade Deadline', 'subheader': \"NHL.com's Dan Rosen answers weekly questions\", 'date': '2020-02-05T00:00:00-0500'}\n",
      "{'_id': ObjectId('5e3cd8a8edf633f6e323485a'), 'header': 'Patrick skates with Flyers, no timetable for return', 'subheader': \"Forward hasn't played this season because of migraines; defenseman Gostisbehere progressing\", 'date': '2020-02-05T15:47:20-0500'}\n",
      "{'_id': ObjectId('5e3cd8a8edf633f6e323485b'), 'header': 'Feb. 6: Brett Hull joins father as 50-goal scorer', 'subheader': 'Plus: Bobby Hull earns 26th hat trick; Gilmour gets 900th NHL assist', 'date': '2020-02-06T00:00:00-0500'}\n"
     ]
    }
   ],
   "source": [
    "# Display the MongoDB records created above\n",
    "articles = db.articles.find()\n",
    "for article in articles:\n",
    "    print(article)"
   ]
  },
  {
   "cell_type": "code",
   "execution_count": null,
   "metadata": {},
   "outputs": [],
   "source": []
  }
 ],
 "metadata": {
  "kernelspec": {
   "display_name": "Python 3",
   "language": "python",
   "name": "python3"
  },
  "language_info": {
   "codemirror_mode": {
    "name": "ipython",
    "version": 3
   },
   "file_extension": ".py",
   "mimetype": "text/x-python",
   "name": "python",
   "nbconvert_exporter": "python",
   "pygments_lexer": "ipython3",
   "version": "3.6.9"
  },
  "varInspector": {
   "cols": {
    "lenName": 16,
    "lenType": 16,
    "lenVar": 40
   },
   "kernels_config": {
    "python": {
     "delete_cmd_postfix": "",
     "delete_cmd_prefix": "del ",
     "library": "var_list.py",
     "varRefreshCmd": "print(var_dic_list())"
    },
    "r": {
     "delete_cmd_postfix": ") ",
     "delete_cmd_prefix": "rm(",
     "library": "var_list.r",
     "varRefreshCmd": "cat(var_dic_list()) "
    }
   },
   "types_to_exclude": [
    "module",
    "function",
    "builtin_function_or_method",
    "instance",
    "_Feature"
   ],
   "window_display": false
  }
 },
 "nbformat": 4,
 "nbformat_minor": 2
}
